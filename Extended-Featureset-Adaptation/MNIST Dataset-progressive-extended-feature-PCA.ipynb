{
 "cells": [
  {
   "cell_type": "code",
   "execution_count": 1,
   "metadata": {},
   "outputs": [
    {
     "name": "stdout",
     "output_type": "stream",
     "text": [
      "(70000, 784) (70000,)\n"
     ]
    }
   ],
   "source": [
    "import numpy as np\n",
    "from sklearn.datasets import fetch_mldata\n",
    "\n",
    "try:\n",
    "    mnist = fetch_mldata('MNIST original')\n",
    "except Exception as ex:        \n",
    "    from six.moves import urllib\n",
    "    from scipy.io import loadmat\n",
    "    import os\n",
    "\n",
    "    mnist_path = os.path.join(\".\", \"datasets\", \"mnist-original.mat\")\n",
    "\n",
    "    # download dataset from github.\n",
    "    mnist_alternative_url = \"https://github.com/amplab/datascience-sp14/raw/master/lab7/mldata/mnist-original.mat\"\n",
    "    response = urllib.request.urlopen(mnist_alternative_url)\n",
    "    with open(mnist_path, \"wb\") as f:\n",
    "        content = response.read()\n",
    "        f.write(content)\n",
    "\n",
    "    mnist_raw = loadmat(mnist_path)\n",
    "    mnist = {\n",
    "        \"data\": mnist_raw[\"data\"].T,\n",
    "        \"target\": mnist_raw[\"label\"][0],\n",
    "        \"COL_NAMES\": [\"label\", \"data\"],\n",
    "        \"DESCR\": \"mldata.org dataset: mnist-original\",\n",
    "    }\n",
    "    print(\"Done!\")\n",
    "\n",
    "X = mnist.data / 255.0\n",
    "y = mnist.target\n",
    "\n",
    "print(X.shape, y.shape)"
   ]
  },
  {
   "cell_type": "code",
   "execution_count": 2,
   "metadata": {},
   "outputs": [
    {
     "name": "stdout",
     "output_type": "stream",
     "text": [
      "(49000, 784) (21000, 784)\n"
     ]
    }
   ],
   "source": [
    "from sklearn.model_selection import train_test_split\n",
    "X_train, X_test, Y_train, Y_test = train_test_split(X, y, test_size=0.30, random_state=42)\n",
    "print(X_train.shape, X_test.shape)"
   ]
  },
  {
   "cell_type": "code",
   "execution_count": 3,
   "metadata": {},
   "outputs": [
    {
     "data": {
      "text/plain": [
       "((49000, 500), (21000, 500))"
      ]
     },
     "execution_count": 3,
     "metadata": {},
     "output_type": "execute_result"
    }
   ],
   "source": [
    "#Creating dataset with only 500 features out of 784\n",
    "feature_set = 500\n",
    "X_train_reduced = X_train[:,:feature_set]\n",
    "X_test_reduced = X_test[:,:feature_set]\n",
    "X_train_reduced.shape, X_test_reduced.shape"
   ]
  },
  {
   "cell_type": "code",
   "execution_count": 5,
   "metadata": {},
   "outputs": [
    {
     "name": "stdout",
     "output_type": "stream",
     "text": [
      "The autoreload extension is already loaded. To reload it, use:\n",
      "  %reload_ext autoreload\n",
      "Populating the interactive namespace from numpy and matplotlib\n"
     ]
    },
    {
     "name": "stderr",
     "output_type": "stream",
     "text": [
      "/usr/local/lib/python3.5/dist-packages/IPython/core/magics/pylab.py:160: UserWarning: pylab import has clobbered these variables: ['select']\n",
      "`%matplotlib` prevents importing * from pylab and numpy\n",
      "  \"\\n`%matplotlib` prevents importing * from pylab and numpy\"\n"
     ]
    }
   ],
   "source": [
    "%load_ext autoreload\n",
    "%autoreload 2\n",
    "%pylab inline\n",
    "\n",
    "import tensorflow as tf\n",
    "slim = tf.contrib.slim\n",
    "graph_replace = tf.contrib.graph_editor.graph_replace\n",
    "\n",
    "import sys, os\n",
    "sys.path.extend([os.path.expanduser('..')])\n",
    "from pathint import utils\n",
    "import seaborn as sns\n",
    "sns.set_style(\"ticks\")\n",
    "\n",
    "from tqdm import trange, tqdm\n",
    "\n",
    "# import operator\n",
    "import matplotlib.colors as colors\n",
    "import matplotlib.cm as cmx\n",
    "\n",
    "rcParams['pdf.fonttype'] = 42\n",
    "rcParams['ps.fonttype'] = 42\n",
    "\n",
    "select = tf.select if hasattr(tf, 'select') else tf.where"
   ]
  },
  {
   "cell_type": "markdown",
   "metadata": {},
   "source": [
    "## Parameters"
   ]
  },
  {
   "cell_type": "code",
   "execution_count": 12,
   "metadata": {
    "collapsed": true
   },
   "outputs": [],
   "source": [
    "# Data params\n",
    "input_dim = 500\n",
    "output_dim = 10\n",
    "\n",
    "# Network params\n",
    "n_hidden_units = 43\n",
    "activation_fn = tf.nn.relu\n",
    "\n",
    "# Optimization params\n",
    "batch_size = 64\n",
    "epochs_per_task = 10\n",
    "\n",
    "n_stats = 1\n",
    "\n",
    "# Reset optimizer after each age\n",
    "reset_optimizer = True"
   ]
  },
  {
   "cell_type": "markdown",
   "metadata": {},
   "source": [
    "## Construct datasets"
   ]
  },
  {
   "cell_type": "code",
   "execution_count": 9,
   "metadata": {
    "collapsed": true
   },
   "outputs": [],
   "source": [
    "from keras.utils import np_utils\n",
    "\n",
    "#task_labels = [[0,1], [2,3], [4,5], [6,7], [8,9],[1,5],[7,9],[3,8],[0,6],[4,2]]\n",
    "#task_labels = [[8,9], [6,7], [4,5], [2,3], [0,1]]\n",
    "#task_labels = [[0,9], [7,8], [3,6], [1,4], [2,5]]\n",
    "#task_labels = [[0,1,2], [3,4,5], [6,7,8,9]]\n",
    "#task_labels = [[1,5,8],[2,5,7,9],[3,4,6]]\n",
    "task_labels = [[0,1], [2,3], [4,5], [6,7], [8,9]]\n",
    "n_tasks = len(task_labels)\n",
    "nb_classes  = 10\n",
    "training_datasets = []\n",
    "validation_datasets = []\n",
    "multihead=False\n",
    "\n",
    "from sklearn.decomposition import PCA\n",
    "pca = PCA(n_components=feature_set)\n",
    "\n",
    "for labels in task_labels:\n",
    "    idx = np.in1d(Y_train, labels)\n",
    "    if multihead:\n",
    "        label_map = np.arange(nb_classes)\n",
    "        label_map[labels] = np.arange(len(labels))\n",
    "        if labels == [0,1] or labels ==[2,3]:\n",
    "            data = X_train_reduced[idx], np_utils.to_categorical(label_map[Y_train[idx]], len(labels))\n",
    "        else:\n",
    "            dimesnion_reduced = pca.fit_transform(X_train[idx])\n",
    "            data = dimesnion_reduced, np_utils.to_categorical(label_map[Y_train[idx]], len(labels))\n",
    "    else:\n",
    "        if labels == [0,1] or labels ==[2,3]:\n",
    "            data = X_train_reduced[idx], np_utils.to_categorical(Y_train[idx], nb_classes)\n",
    "        else:\n",
    "            dimesnion_reduced = pca.fit_transform(X_train[idx])\n",
    "            data = dimesnion_reduced, np_utils.to_categorical(Y_train[idx], nb_classes)\n",
    "        training_datasets.append(data)\n",
    "\n",
    "for labels in task_labels:\n",
    "    idx = np.in1d(Y_test, labels)\n",
    "    if multihead:\n",
    "        label_map = np.arange(nb_classes)\n",
    "        label_map[labels] = np.arange(len(labels))\n",
    "        if labels == [0,1] or labels ==[2,3]:\n",
    "            data = X_test_reduced[idx], np_utils.to_categorical(label_map[Y_test[idx]], len(labels))\n",
    "        else:\n",
    "            dimesnion_reduced = pca.fit_transform(X_test[idx])\n",
    "            data = dimesnion_reduced, np_utils.to_categorical(label_map[Y_test[idx]], len(labels))\n",
    "    else:\n",
    "        if labels == [0,1] or labels ==[2,3]:\n",
    "            data = X_test_reduced[idx], np_utils.to_categorical(Y_test[idx], nb_classes)\n",
    "        else:\n",
    "            dimesnion_reduced = pca.fit_transform(X_test[idx])\n",
    "            data = dimesnion_reduced, np_utils.to_categorical(Y_test[idx], nb_classes)\n",
    "        validation_datasets.append(data)"
   ]
  },
  {
   "cell_type": "code",
   "execution_count": 10,
   "metadata": {
    "collapsed": true
   },
   "outputs": [],
   "source": [
    "tf.reset_default_graph()\n",
    "config = tf.ConfigProto()\n",
    "config.gpu_options.allow_growth=True\n",
    "sess = tf.InteractiveSession(config=config)\n",
    "sess.run(tf.global_variables_initializer())\n",
    "import keras.backend as K\n",
    "import keras.activations as activations\n",
    "\n",
    "output_mask = tf.Variable(tf.zeros(output_dim), name=\"mask\", trainable=False)\n",
    "\n",
    "def masked_softmax(logits):\n",
    "    # logits are [batch_size, output_dim]\n",
    "    x = select(tf.tile(tf.equal(output_mask[None, :], 1.0), [tf.shape(logits)[0], 1]), logits, -1e32 * tf.ones_like(logits))\n",
    "    return activations.softmax(x)\n",
    "\n",
    "def set_active_outputs(labels):\n",
    "    new_mask = np.zeros(output_dim)\n",
    "    for l in labels:\n",
    "        new_mask[l] = 1.0\n",
    "    sess.run(output_mask.assign(new_mask))\n",
    "    print(sess.run(output_mask))\n",
    "    \n",
    "def masked_predict(model, data, targets):\n",
    "    pred = model.predict(data)\n",
    "    print(pred)\n",
    "    acc = np.argmax(pred,1)==np.argmax(targets,1)\n",
    "    return acc.mean()"
   ]
  },
  {
   "cell_type": "code",
   "execution_count": 13,
   "metadata": {
    "collapsed": true
   },
   "outputs": [],
   "source": [
    "from keras.models import Sequential\n",
    "from keras.layers import Dense\n",
    "from keras.layers import Dropout\n",
    "model = Sequential()\n",
    "model.add(Dense(n_hidden_units, kernel_initializer='random_uniform', activation=activation_fn, input_shape=(input_dim,)))\n",
    "#model.add(Dense(n_hidden_units, kernel_initializer='random_uniform', activation=activation_fn))\n",
    "#model.add(Dense(n_hidden_units, activation=activation_fn))\n",
    "model.add(Dense(output_dim, kernel_initializer='random_uniform', activation=masked_softmax))\n",
    "\n",
    "from pathint import protocols\n",
    "from pathint.optimizers import KOOptimizer\n",
    "from keras.optimizers import Adam, RMSprop,SGD\n",
    "from keras.callbacks import Callback\n",
    "from pathint.keras_utils import LossHistory\n",
    "\n",
    "#protocol_name, protocol = protocols.PATH_INT_PROTOCOL(omega_decay='sum',xi=1e-3)\n",
    "protocol_name, protocol = protocols.PATH_INT_PROTOCOL(omega_decay='sum',xi=1e-3)\n",
    "#protocol_name, protocol = protocols.FISHER_PROTOCOL('sum')\n",
    "opt = Adam(lr=1e-3, beta_1=0.9, beta_2=0.999)\n",
    "#opt = SGD(1e-3)\n",
    "#opt = RMSprop(lr=1e-3)\n",
    "oopt = KOOptimizer(opt, model=model, **protocol)\n",
    "model.compile(loss='categorical_crossentropy', optimizer=oopt, metrics=['accuracy'])\n",
    "model.model._make_train_function()\n",
    "saved_weights = model.get_weights()\n",
    "\n",
    "history = LossHistory()\n",
    "callbacks = [history]\n",
    "datafile_name = \"split_mnist_data_%s.pkl.gz\"%protocol_name"
   ]
  },
  {
   "cell_type": "code",
   "execution_count": 14,
   "metadata": {
    "collapsed": true
   },
   "outputs": [],
   "source": [
    "def run_fits(cvals, training_data, valid_data, eval_on_train_set=False, nstats=1):\n",
    "    acc_mean = dict()\n",
    "    acc_std = dict()\n",
    "    model_weights_save = []   #Empty list to save the model weights aftertraining each task\n",
    "    for cidx, cval_ in enumerate(tqdm(cvals)):\n",
    "        runs = []\n",
    "        for runid in range(nstats):\n",
    "            sess.run(tf.global_variables_initializer())\n",
    "            # model.set_weights(saved_weights)\n",
    "            cstuffs = []\n",
    "            evals = []\n",
    "            print(\"setting cval\")\n",
    "            cval = cval_\n",
    "            oopt.set_strength(cval)\n",
    "            oopt.init_task_vars()\n",
    "            print(\"cval is\", sess.run(oopt.lam))\n",
    "            for age, tidx in enumerate(range(n_tasks)):\n",
    "                print(\"Age %i, cval is=%f\"%(age,cval))\n",
    "                print(\"settint output mask\")\n",
    "                set_active_outputs(task_labels[age])\n",
    "                stuffs = model.fit(training_data[tidx][0], training_data[tidx][1], batch_size, epochs_per_task, callbacks=callbacks)\n",
    "                oopt.update_task_metrics(training_data[tidx][0], training_data[tidx][1], batch_size)\n",
    "                oopt.update_task_vars()\n",
    "                ftask = []\n",
    "                model_weights_save.append(model.get_weights()) #Save the model weights aftertraining each task\n",
    "                for j in range(n_tasks):\n",
    "                    set_active_outputs(task_labels[j])\n",
    "                    if eval_on_train_set:\n",
    "                        f_ = masked_predict(model, training_data[j][0], training_data[j][1])\n",
    "                    else:\n",
    "                        f_ = masked_predict(model, valid_data[j][0], valid_data[j][1])\n",
    "                    ftask.append(np.mean(f_))\n",
    "                evals.append(ftask)\n",
    "                cstuffs.append(stuffs)\n",
    "\n",
    "                # Re-initialize optimizater variables\n",
    "                if reset_optimizer:\n",
    "                    oopt.reset_optimizer()\n",
    "\n",
    "            evals = np.array(evals)\n",
    "            runs.append(evals)\n",
    "        \n",
    "        runs = np.array(runs)\n",
    "        acc_mean[cval_] = runs.mean(0)\n",
    "        acc_std[cval_] = runs.std(0)\n",
    "    return dict(mean=acc_mean, std=acc_std),model_weights_save"
   ]
  },
  {
   "cell_type": "code",
   "execution_count": 15,
   "metadata": {},
   "outputs": [
    {
     "name": "stdout",
     "output_type": "stream",
     "text": [
      "[1.0]\n"
     ]
    }
   ],
   "source": [
    "# cvals = np.concatenate(([0], np.logspace(-2, 2, 10)))\n",
    "# cvals = np.concatenate(([0], np.logspace(-1, 2, 2)))\n",
    "# cvals = np.concatenate(([0], np.logspace(-2, 0, 3)))\n",
    "#cvals = np.logspace(-3, 3, 7)#[0, 1.0, 2, 5, 10]\n",
    "cvals = [1.0]\n",
    "print(cvals)"
   ]
  },
  {
   "cell_type": "code",
   "execution_count": 16,
   "metadata": {
    "scrolled": true
   },
   "outputs": [
    {
     "name": "stderr",
     "output_type": "stream",
     "text": [
      "\r",
      "  0%|          | 0/1 [00:00<?, ?it/s]"
     ]
    },
    {
     "name": "stdout",
     "output_type": "stream",
     "text": [
      "setting cval\n",
      "cval is 1.0\n",
      "Age 0, cval is=1.000000\n",
      "settint output mask\n",
      "[1. 1. 0. 0. 0. 0. 0. 0. 0. 0.]\n",
      "Epoch 1/10\n",
      "10447/10447 [==============================] - 0s - loss: 0.0867 - acc: 0.9942     \n",
      "Epoch 2/10\n",
      "10447/10447 [==============================] - 0s - loss: 0.0047 - acc: 0.9987     \n",
      "Epoch 3/10\n",
      "10447/10447 [==============================] - 0s - loss: 0.0033 - acc: 0.9990     \n",
      "Epoch 4/10\n",
      "10447/10447 [==============================] - 0s - loss: 0.0027 - acc: 0.9992     \n",
      "Epoch 5/10\n",
      "10447/10447 [==============================] - 0s - loss: 0.0021 - acc: 0.9993     \n",
      "Epoch 6/10\n",
      "10447/10447 [==============================] - 0s - loss: 0.0020 - acc: 0.9993     \n",
      "Epoch 7/10\n",
      "10447/10447 [==============================] - 0s - loss: 0.0016 - acc: 0.9995     \n",
      "Epoch 8/10\n",
      "10447/10447 [==============================] - 0s - loss: 0.0013 - acc: 0.9995      \n",
      "Epoch 9/10\n",
      "10447/10447 [==============================] - 0s - loss: 0.0011 - acc: 0.9996       \n",
      "Epoch 10/10\n",
      "10447/10447 [==============================] - 0s - loss: 9.0935e-04 - acc: 0.9996     \n",
      "[1. 1. 0. 0. 0. 0. 0. 0. 0. 0.]\n",
      "[[2.4929002e-04 9.9975067e-01 0.0000000e+00 ... 0.0000000e+00\n",
      "  0.0000000e+00 0.0000000e+00]\n",
      " [9.9999964e-01 3.0723101e-07 0.0000000e+00 ... 0.0000000e+00\n",
      "  0.0000000e+00 0.0000000e+00]\n",
      " [9.9999702e-01 2.9364394e-06 0.0000000e+00 ... 0.0000000e+00\n",
      "  0.0000000e+00 0.0000000e+00]\n",
      " ...\n",
      " [9.9838769e-01 1.6123266e-03 0.0000000e+00 ... 0.0000000e+00\n",
      "  0.0000000e+00 0.0000000e+00]\n",
      " [9.9999988e-01 7.5475768e-08 0.0000000e+00 ... 0.0000000e+00\n",
      "  0.0000000e+00 0.0000000e+00]\n",
      " [1.0000000e+00 8.5662466e-10 0.0000000e+00 ... 0.0000000e+00\n",
      "  0.0000000e+00 0.0000000e+00]]\n",
      "[0. 0. 1. 1. 0. 0. 0. 0. 0. 0.]\n",
      "[[0.         0.         0.5148721  ... 0.         0.         0.        ]\n",
      " [0.         0.         0.52276677 ... 0.         0.         0.        ]\n",
      " [0.         0.         0.51625866 ... 0.         0.         0.        ]\n",
      " ...\n",
      " [0.         0.         0.5321271  ... 0.         0.         0.        ]\n",
      " [0.         0.         0.515463   ... 0.         0.         0.        ]\n",
      " [0.         0.         0.5370508  ... 0.         0.         0.        ]]\n",
      "[0. 0. 0. 0. 1. 1. 0. 0. 0. 0.]\n",
      "[[0. 0. 0. ... 0. 0. 0.]\n",
      " [0. 0. 0. ... 0. 0. 0.]\n",
      " [0. 0. 0. ... 0. 0. 0.]\n",
      " ...\n",
      " [0. 0. 0. ... 0. 0. 0.]\n",
      " [0. 0. 0. ... 0. 0. 0.]\n",
      " [0. 0. 0. ... 0. 0. 0.]]\n",
      "[0. 0. 0. 0. 0. 0. 1. 1. 0. 0.]\n",
      "[[0.         0.         0.         ... 0.4902704  0.         0.        ]\n",
      " [0.         0.         0.         ... 0.5094706  0.         0.        ]\n",
      " [0.         0.         0.         ... 0.5268773  0.         0.        ]\n",
      " ...\n",
      " [0.         0.         0.         ... 0.49937612 0.         0.        ]\n",
      " [0.         0.         0.         ... 0.48862264 0.         0.        ]\n",
      " [0.         0.         0.         ... 0.51827615 0.         0.        ]]\n",
      "[0. 0. 0. 0. 0. 0. 0. 0. 1. 1.]\n",
      "[[0.         0.         0.         ... 0.         0.49448013 0.50551987]\n",
      " [0.         0.         0.         ... 0.         0.5141854  0.48581454]\n",
      " [0.         0.         0.         ... 0.         0.5336381  0.4663619 ]\n",
      " ...\n",
      " [0.         0.         0.         ... 0.         0.518646   0.48135403]\n",
      " [0.         0.         0.         ... 0.         0.5244734  0.47552666]\n",
      " [0.         0.         0.         ... 0.         0.5055672  0.49443284]]\n",
      "Age 1, cval is=1.000000\n",
      "settint output mask\n",
      "[0. 0. 1. 1. 0. 0. 0. 0. 0. 0.]\n",
      "Epoch 1/10\n",
      "9893/9893 [==============================] - 0s - loss: 0.2046 - acc: 0.9306     \n",
      "Epoch 2/10\n",
      "9893/9893 [==============================] - 0s - loss: 0.1412 - acc: 0.9526     \n",
      "Epoch 3/10\n",
      "9893/9893 [==============================] - 0s - loss: 0.1289 - acc: 0.9575     \n",
      "Epoch 4/10\n",
      "9893/9893 [==============================] - 0s - loss: 0.1219 - acc: 0.9604     \n",
      "Epoch 5/10\n",
      "9893/9893 [==============================] - 0s - loss: 0.1193 - acc: 0.9598     \n",
      "Epoch 6/10\n",
      "9893/9893 [==============================] - 0s - loss: 0.1132 - acc: 0.9628     \n",
      "Epoch 7/10\n",
      "9893/9893 [==============================] - 0s - loss: 0.1154 - acc: 0.9606     \n",
      "Epoch 8/10\n",
      "9893/9893 [==============================] - 0s - loss: 0.1092 - acc: 0.9620     \n",
      "Epoch 9/10\n",
      "9893/9893 [==============================] - 0s - loss: 0.1073 - acc: 0.9626     \n",
      "Epoch 10/10\n",
      "9893/9893 [==============================] - 0s - loss: 0.1066 - acc: 0.9632     \n",
      "[1. 1. 0. 0. 0. 0. 0. 0. 0. 0.]\n",
      "[[1.1480062e-04 9.9988520e-01 0.0000000e+00 ... 0.0000000e+00\n",
      "  0.0000000e+00 0.0000000e+00]\n",
      " [9.9999940e-01 6.5113835e-07 0.0000000e+00 ... 0.0000000e+00\n",
      "  0.0000000e+00 0.0000000e+00]\n",
      " [9.9999690e-01 3.1462587e-06 0.0000000e+00 ... 0.0000000e+00\n",
      "  0.0000000e+00 0.0000000e+00]\n",
      " ...\n",
      " [9.9490297e-01 5.0970586e-03 0.0000000e+00 ... 0.0000000e+00\n",
      "  0.0000000e+00 0.0000000e+00]\n",
      " [9.9999988e-01 8.4432010e-08 0.0000000e+00 ... 0.0000000e+00\n",
      "  0.0000000e+00 0.0000000e+00]\n",
      " [1.0000000e+00 2.0881126e-09 0.0000000e+00 ... 0.0000000e+00\n",
      "  0.0000000e+00 0.0000000e+00]]\n",
      "[0. 0. 1. 1. 0. 0. 0. 0. 0. 0.]\n",
      "[[0.         0.         0.00198974 ... 0.         0.         0.        ]\n",
      " [0.         0.         0.00135779 ... 0.         0.         0.        ]\n",
      " [0.         0.         0.9611443  ... 0.         0.         0.        ]\n",
      " ...\n",
      " [0.         0.         0.9154599  ... 0.         0.         0.        ]\n",
      " [0.         0.         0.00098725 ... 0.         0.         0.        ]\n",
      " [0.         0.         0.01361729 ... 0.         0.         0.        ]]\n",
      "[0. 0. 0. 0. 1. 1. 0. 0. 0. 0.]\n",
      "[[0. 0. 0. ... 0. 0. 0.]\n",
      " [0. 0. 0. ... 0. 0. 0.]\n",
      " [0. 0. 0. ... 0. 0. 0.]\n",
      " ...\n",
      " [0. 0. 0. ... 0. 0. 0.]\n",
      " [0. 0. 0. ... 0. 0. 0.]\n",
      " [0. 0. 0. ... 0. 0. 0.]]\n",
      "[0. 0. 0. 0. 0. 0. 1. 1. 0. 0.]\n",
      "[[0.         0.         0.         ... 0.48951507 0.         0.        ]\n",
      " [0.         0.         0.         ... 0.50607735 0.         0.        ]\n",
      " [0.         0.         0.         ... 0.52595264 0.         0.        ]\n",
      " ...\n",
      " [0.         0.         0.         ... 0.49661788 0.         0.        ]\n",
      " [0.         0.         0.         ... 0.48184094 0.         0.        ]\n",
      " [0.         0.         0.         ... 0.49939474 0.         0.        ]]\n",
      "[0. 0. 0. 0. 0. 0. 0. 0. 1. 1.]\n",
      "[[0.         0.         0.         ... 0.         0.4969863  0.50301373]\n",
      " [0.         0.         0.         ... 0.         0.51494    0.48505998]\n",
      " [0.         0.         0.         ... 0.         0.5308548  0.46914524]\n",
      " ...\n",
      " [0.         0.         0.         ... 0.         0.51938605 0.48061395]\n",
      " [0.         0.         0.         ... 0.         0.5209861  0.47901392]\n",
      " [0.         0.         0.         ... 0.         0.51692456 0.48307547]]\n",
      "Age 2, cval is=1.000000\n",
      "settint output mask\n",
      "[0. 0. 0. 0. 1. 1. 0. 0. 0. 0.]\n",
      "Epoch 1/10\n",
      "9119/9119 [==============================] - 0s - loss: 0.0970 - acc: 0.9783     \n",
      "Epoch 2/10\n",
      "9119/9119 [==============================] - 0s - loss: 0.0069 - acc: 0.9988     \n",
      "Epoch 3/10\n",
      "9119/9119 [==============================] - 0s - loss: 0.0034 - acc: 0.9998     \n",
      "Epoch 4/10\n",
      "9119/9119 [==============================] - 0s - loss: 0.0022 - acc: 1.0000     \n",
      "Epoch 5/10\n",
      "9119/9119 [==============================] - 0s - loss: 0.0016 - acc: 1.0000     \n",
      "Epoch 6/10\n",
      "9119/9119 [==============================] - 0s - loss: 0.0012 - acc: 1.0000     \n",
      "Epoch 7/10\n",
      "9119/9119 [==============================] - 0s - loss: 9.5963e-04 - acc: 1.0000     \n",
      "Epoch 8/10\n",
      "9119/9119 [==============================] - 0s - loss: 7.8976e-04 - acc: 1.0000     \n",
      "Epoch 9/10\n",
      "9119/9119 [==============================] - 0s - loss: 6.5991e-04 - acc: 1.0000     \n",
      "Epoch 10/10\n",
      "9119/9119 [==============================] - 0s - loss: 5.6171e-04 - acc: 1.0000     \n",
      "[1. 1. 0. 0. 0. 0. 0. 0. 0. 0.]\n",
      "[[1.1486522e-04 9.9988508e-01 0.0000000e+00 ... 0.0000000e+00\n",
      "  0.0000000e+00 0.0000000e+00]\n",
      " [9.9999940e-01 6.5253329e-07 0.0000000e+00 ... 0.0000000e+00\n",
      "  0.0000000e+00 0.0000000e+00]\n",
      " [9.9999690e-01 3.1460697e-06 0.0000000e+00 ... 0.0000000e+00\n",
      "  0.0000000e+00 0.0000000e+00]\n",
      " ...\n",
      " [9.9490744e-01 5.0925091e-03 0.0000000e+00 ... 0.0000000e+00\n",
      "  0.0000000e+00 0.0000000e+00]\n",
      " [9.9999988e-01 8.4434262e-08 0.0000000e+00 ... 0.0000000e+00\n",
      "  0.0000000e+00 0.0000000e+00]\n",
      " [1.0000000e+00 2.0901010e-09 0.0000000e+00 ... 0.0000000e+00\n",
      "  0.0000000e+00 0.0000000e+00]]\n",
      "[0. 0. 1. 1. 0. 0. 0. 0. 0. 0.]\n",
      "[[0.         0.         0.00200031 ... 0.         0.         0.        ]\n",
      " [0.         0.         0.00135741 ... 0.         0.         0.        ]\n",
      " [0.         0.         0.9611355  ... 0.         0.         0.        ]\n",
      " ...\n",
      " [0.         0.         0.91549444 ... 0.         0.         0.        ]\n",
      " [0.         0.         0.00098733 ... 0.         0.         0.        ]\n",
      " [0.         0.         0.01361706 ... 0.         0.         0.        ]]\n",
      "[0. 0. 0. 0. 1. 1. 0. 0. 0. 0.]\n"
     ]
    },
    {
     "name": "stdout",
     "output_type": "stream",
     "text": [
      "[[0. 0. 0. ... 0. 0. 0.]\n",
      " [0. 0. 0. ... 0. 0. 0.]\n",
      " [0. 0. 0. ... 0. 0. 0.]\n",
      " ...\n",
      " [0. 0. 0. ... 0. 0. 0.]\n",
      " [0. 0. 0. ... 0. 0. 0.]\n",
      " [0. 0. 0. ... 0. 0. 0.]]\n",
      "[0. 0. 0. 0. 0. 0. 1. 1. 0. 0.]\n",
      "[[0.         0.         0.         ... 0.4965336  0.         0.        ]\n",
      " [0.         0.         0.         ... 0.57475364 0.         0.        ]\n",
      " [0.         0.         0.         ... 0.5518646  0.         0.        ]\n",
      " ...\n",
      " [0.         0.         0.         ... 0.5595555  0.         0.        ]\n",
      " [0.         0.         0.         ... 0.4403472  0.         0.        ]\n",
      " [0.         0.         0.         ... 0.49232227 0.         0.        ]]\n",
      "[0. 0. 0. 0. 0. 0. 0. 0. 1. 1.]\n",
      "[[0.         0.         0.         ... 0.         0.47682685 0.5231731 ]\n",
      " [0.         0.         0.         ... 0.         0.53828645 0.4617135 ]\n",
      " [0.         0.         0.         ... 0.         0.64318097 0.35681906]\n",
      " ...\n",
      " [0.         0.         0.         ... 0.         0.52108324 0.47891682]\n",
      " [0.         0.         0.         ... 0.         0.5427857  0.45721424]\n",
      " [0.         0.         0.         ... 0.         0.4587713  0.5412287 ]]\n",
      "Age 3, cval is=1.000000\n",
      "settint output mask\n",
      "[0. 0. 0. 0. 0. 0. 1. 1. 0. 0.]\n",
      "Epoch 1/10\n",
      "9871/9871 [==============================] - 0s - loss: 0.0599 - acc: 0.9872     \n",
      "Epoch 2/10\n",
      "9871/9871 [==============================] - 0s - loss: 0.0221 - acc: 0.9946     \n",
      "Epoch 3/10\n",
      "9871/9871 [==============================] - 0s - loss: 0.0192 - acc: 0.9951     \n",
      "Epoch 4/10\n",
      "9871/9871 [==============================] - 0s - loss: 0.0174 - acc: 0.9954     \n",
      "Epoch 5/10\n",
      "9871/9871 [==============================] - 0s - loss: 0.0157 - acc: 0.9956     \n",
      "Epoch 6/10\n",
      "9871/9871 [==============================] - 0s - loss: 0.0149 - acc: 0.9963     \n",
      "Epoch 7/10\n",
      "9871/9871 [==============================] - 0s - loss: 0.0143 - acc: 0.9962     \n",
      "Epoch 8/10\n",
      "9871/9871 [==============================] - 0s - loss: 0.0129 - acc: 0.9966     \n",
      "Epoch 9/10\n",
      "9871/9871 [==============================] - 0s - loss: 0.0133 - acc: 0.9964     \n",
      "Epoch 10/10\n",
      "9871/9871 [==============================] - 0s - loss: 0.0117 - acc: 0.9965     \n",
      "[1. 1. 0. 0. 0. 0. 0. 0. 0. 0.]\n",
      "[[1.1477019e-04 9.9988520e-01 0.0000000e+00 ... 0.0000000e+00\n",
      "  0.0000000e+00 0.0000000e+00]\n",
      " [9.9999940e-01 6.5264783e-07 0.0000000e+00 ... 0.0000000e+00\n",
      "  0.0000000e+00 0.0000000e+00]\n",
      " [9.9999690e-01 3.1432567e-06 0.0000000e+00 ... 0.0000000e+00\n",
      "  0.0000000e+00 0.0000000e+00]\n",
      " ...\n",
      " [9.9491560e-01 5.0844154e-03 0.0000000e+00 ... 0.0000000e+00\n",
      "  0.0000000e+00 0.0000000e+00]\n",
      " [9.9999988e-01 8.4354419e-08 0.0000000e+00 ... 0.0000000e+00\n",
      "  0.0000000e+00 0.0000000e+00]\n",
      " [1.0000000e+00 2.0887381e-09 0.0000000e+00 ... 0.0000000e+00\n",
      "  0.0000000e+00 0.0000000e+00]]\n",
      "[0. 0. 1. 1. 0. 0. 0. 0. 0. 0.]\n",
      "[[0.         0.         0.00200963 ... 0.         0.         0.        ]\n",
      " [0.         0.         0.00135419 ... 0.         0.         0.        ]\n",
      " [0.         0.         0.96119386 ... 0.         0.         0.        ]\n",
      " ...\n",
      " [0.         0.         0.9157224  ... 0.         0.         0.        ]\n",
      " [0.         0.         0.0009864  ... 0.         0.         0.        ]\n",
      " [0.         0.         0.01358613 ... 0.         0.         0.        ]]\n",
      "[0. 0. 0. 0. 1. 1. 0. 0. 0. 0.]\n",
      "[[0. 0. 0. ... 0. 0. 0.]\n",
      " [0. 0. 0. ... 0. 0. 0.]\n",
      " [0. 0. 0. ... 0. 0. 0.]\n",
      " ...\n",
      " [0. 0. 0. ... 0. 0. 0.]\n",
      " [0. 0. 0. ... 0. 0. 0.]\n",
      " [0. 0. 0. ... 0. 0. 0.]]\n",
      "[0. 0. 0. 0. 0. 0. 1. 1. 0. 0.]\n",
      "[[0.0000000e+00 0.0000000e+00 0.0000000e+00 ... 9.9995410e-01\n",
      "  0.0000000e+00 0.0000000e+00]\n",
      " [0.0000000e+00 0.0000000e+00 0.0000000e+00 ... 1.3539847e-04\n",
      "  0.0000000e+00 0.0000000e+00]\n",
      " [0.0000000e+00 0.0000000e+00 0.0000000e+00 ... 9.9996221e-01\n",
      "  0.0000000e+00 0.0000000e+00]\n",
      " ...\n",
      " [0.0000000e+00 0.0000000e+00 0.0000000e+00 ... 3.7832074e-02\n",
      "  0.0000000e+00 0.0000000e+00]\n",
      " [0.0000000e+00 0.0000000e+00 0.0000000e+00 ... 9.9994135e-01\n",
      "  0.0000000e+00 0.0000000e+00]\n",
      " [0.0000000e+00 0.0000000e+00 0.0000000e+00 ... 9.5525116e-01\n",
      "  0.0000000e+00 0.0000000e+00]]\n",
      "[0. 0. 0. 0. 0. 0. 0. 0. 1. 1.]\n",
      "[[0.         0.         0.         ... 0.         0.48770058 0.5122994 ]\n",
      " [0.         0.         0.         ... 0.         0.54647875 0.45352125]\n",
      " [0.         0.         0.         ... 0.         0.6497124  0.35028768]\n",
      " ...\n",
      " [0.         0.         0.         ... 0.         0.51507753 0.48492253]\n",
      " [0.         0.         0.         ... 0.         0.5466676  0.45333242]\n",
      " [0.         0.         0.         ... 0.         0.4551393  0.54486066]]\n",
      "Age 4, cval is=1.000000\n",
      "settint output mask\n",
      "[0. 0. 0. 0. 0. 0. 0. 0. 1. 1.]\n",
      "Epoch 1/10\n",
      "9670/9670 [==============================] - 0s - loss: 0.1895 - acc: 0.9399     \n",
      "Epoch 2/10\n",
      "9670/9670 [==============================] - 0s - loss: 0.1251 - acc: 0.9573     \n",
      "Epoch 3/10\n",
      "9670/9670 [==============================] - 0s - loss: 0.1158 - acc: 0.9592     \n",
      "Epoch 4/10\n",
      "9670/9670 [==============================] - 0s - loss: 0.1108 - acc: 0.9615     \n",
      "Epoch 5/10\n",
      "9670/9670 [==============================] - 0s - loss: 0.1066 - acc: 0.9614     \n",
      "Epoch 6/10\n",
      "9670/9670 [==============================] - 0s - loss: 0.1037 - acc: 0.9626     \n",
      "Epoch 7/10\n",
      "9670/9670 [==============================] - 0s - loss: 0.1013 - acc: 0.9633     \n",
      "Epoch 8/10\n",
      "9670/9670 [==============================] - 0s - loss: 0.0998 - acc: 0.9643     \n",
      "Epoch 9/10\n",
      "9670/9670 [==============================] - 0s - loss: 0.0981 - acc: 0.9648     \n",
      "Epoch 10/10\n",
      "9670/9670 [==============================] - 0s - loss: 0.0967 - acc: 0.9657     \n",
      "[1. 1. 0. 0. 0. 0. 0. 0. 0. 0.]\n",
      "[[1.14715054e-04 9.99885321e-01 0.00000000e+00 ... 0.00000000e+00\n",
      "  0.00000000e+00 0.00000000e+00]\n",
      " [9.99999285e-01 6.57292503e-07 0.00000000e+00 ... 0.00000000e+00\n",
      "  0.00000000e+00 0.00000000e+00]\n",
      " [9.99996901e-01 3.15419015e-06 0.00000000e+00 ... 0.00000000e+00\n",
      "  0.00000000e+00 0.00000000e+00]\n",
      " ...\n",
      " [9.94939804e-01 5.06019033e-03 0.00000000e+00 ... 0.00000000e+00\n",
      "  0.00000000e+00 0.00000000e+00]\n",
      " [9.99999881e-01 8.44516563e-08 0.00000000e+00 ... 0.00000000e+00\n",
      "  0.00000000e+00 0.00000000e+00]\n",
      " [1.00000000e+00 2.09758522e-09 0.00000000e+00 ... 0.00000000e+00\n",
      "  0.00000000e+00 0.00000000e+00]]\n",
      "[0. 0. 1. 1. 0. 0. 0. 0. 0. 0.]\n",
      "[[0.         0.         0.00199537 ... 0.         0.         0.        ]\n",
      " [0.         0.         0.00134251 ... 0.         0.         0.        ]\n",
      " [0.         0.         0.9613589  ... 0.         0.         0.        ]\n",
      " ...\n",
      " [0.         0.         0.91581297 ... 0.         0.         0.        ]\n",
      " [0.         0.         0.00097905 ... 0.         0.         0.        ]\n",
      " [0.         0.         0.01364873 ... 0.         0.         0.        ]]\n",
      "[0. 0. 0. 0. 1. 1. 0. 0. 0. 0.]\n",
      "[[0. 0. 0. ... 0. 0. 0.]\n",
      " [0. 0. 0. ... 0. 0. 0.]\n",
      " [0. 0. 0. ... 0. 0. 0.]\n",
      " ...\n",
      " [0. 0. 0. ... 0. 0. 0.]\n",
      " [0. 0. 0. ... 0. 0. 0.]\n",
      " [0. 0. 0. ... 0. 0. 0.]]\n",
      "[0. 0. 0. 0. 0. 0. 1. 1. 0. 0.]\n",
      "[[0.0000000e+00 0.0000000e+00 0.0000000e+00 ... 9.9995220e-01\n",
      "  0.0000000e+00 0.0000000e+00]\n",
      " [0.0000000e+00 0.0000000e+00 0.0000000e+00 ... 1.0627684e-04\n",
      "  0.0000000e+00 0.0000000e+00]\n",
      " [0.0000000e+00 0.0000000e+00 0.0000000e+00 ... 9.9996281e-01\n",
      "  0.0000000e+00 0.0000000e+00]\n",
      " ...\n",
      " [0.0000000e+00 0.0000000e+00 0.0000000e+00 ... 3.3975430e-02\n",
      "  0.0000000e+00 0.0000000e+00]\n",
      " [0.0000000e+00 0.0000000e+00 0.0000000e+00 ... 9.9994576e-01\n",
      "  0.0000000e+00 0.0000000e+00]\n",
      " [0.0000000e+00 0.0000000e+00 0.0000000e+00 ... 9.5600224e-01\n",
      "  0.0000000e+00 0.0000000e+00]]\n"
     ]
    },
    {
     "name": "stderr",
     "output_type": "stream",
     "text": [
      "\r",
      "100%|██████████| 1/1 [00:23<00:00, 23.03s/it]"
     ]
    },
    {
     "name": "stdout",
     "output_type": "stream",
     "text": [
      "[0. 0. 0. 0. 0. 0. 0. 0. 1. 1.]\n",
      "[[0.00000000e+00 0.00000000e+00 0.00000000e+00 ... 0.00000000e+00\n",
      "  9.96476948e-01 3.52308201e-03]\n",
      " [0.00000000e+00 0.00000000e+00 0.00000000e+00 ... 0.00000000e+00\n",
      "  1.85811822e-03 9.98141885e-01]\n",
      " [0.00000000e+00 0.00000000e+00 0.00000000e+00 ... 0.00000000e+00\n",
      "  9.96873438e-01 3.12659913e-03]\n",
      " ...\n",
      " [0.00000000e+00 0.00000000e+00 0.00000000e+00 ... 0.00000000e+00\n",
      "  8.98861587e-01 1.01138346e-01]\n",
      " [0.00000000e+00 0.00000000e+00 0.00000000e+00 ... 0.00000000e+00\n",
      "  9.99981642e-01 1.83383981e-05]\n",
      " [0.00000000e+00 0.00000000e+00 0.00000000e+00 ... 0.00000000e+00\n",
      "  8.77536952e-01 1.22463070e-01]]\n"
     ]
    },
    {
     "name": "stderr",
     "output_type": "stream",
     "text": [
      "\n"
     ]
    }
   ],
   "source": [
    "#%%capture\n",
    "\n",
    "recompute_data = True\n",
    "\n",
    "if recompute_data:\n",
    "    data,model_weights_save = run_fits(cvals, training_datasets, validation_datasets, eval_on_train_set=False, nstats=n_stats)\n",
    "    utils.save_zipped_pickle(data, datafile_name)"
   ]
  },
  {
   "cell_type": "code",
   "execution_count": 17,
   "metadata": {},
   "outputs": [
    {
     "name": "stdout",
     "output_type": "stream",
     "text": [
      "_________________________________________________________________\n",
      "Layer (type)                 Output Shape              Param #   \n",
      "=================================================================\n",
      "dense_1 (Dense)              (None, 43)                21543     \n",
      "_________________________________________________________________\n",
      "dense_2 (Dense)              (None, 10)                440       \n",
      "=================================================================\n",
      "Total params: 21,983\n",
      "Trainable params: 21,983\n",
      "Non-trainable params: 0\n",
      "_________________________________________________________________\n",
      "None\n",
      "(500, 43)\n",
      "(43,)\n",
      "(43, 10)\n",
      "(10,)\n"
     ]
    }
   ],
   "source": [
    "import h5py\n",
    "print(model.summary())\n",
    "model.save_weights('saved_weights.h5') #This file cannot be opend normaly to view the weghts. It can be loaded through load_model() or can be opend via hdf5 viewer\n",
    "\n",
    "#Shape of the array containg model weights\n",
    "a_list = model.get_weights()\n",
    "for i in range(len(a_list)):\n",
    "    print((np.array(a_list[i])).shape)\n",
    "\n",
    "#a_list[0][0][0] = a_list[0][0][0]+0.00001\n",
    "#print(a_list[0][0][0])\n",
    "#model.set_weights(a_list)\n",
    "\n",
    "#from keras.utils.vis_utils import plot_model\n",
    "#import pydot\n",
    "#plot_model(model, to_file='model_plot.png', show_shapes=True, show_layer_names=True)"
   ]
  },
  {
   "cell_type": "code",
   "execution_count": 18,
   "metadata": {},
   "outputs": [
    {
     "name": "stdout",
     "output_type": "stream",
     "text": [
      "[1.0]\n"
     ]
    }
   ],
   "source": [
    "data = utils.load_zipped_pickle(datafile_name)\n",
    "print(cvals)"
   ]
  },
  {
   "cell_type": "code",
   "execution_count": 19,
   "metadata": {},
   "outputs": [
    {
     "name": "stdout",
     "output_type": "stream",
     "text": [
      "{'mean': {1.0: array([[0.99884607, 0.50542709, 0.42906919, 0.48301536, 0.5220034 ],\n",
      "       [0.99884607, 0.96814535, 0.44798407, 0.48627268, 0.53294432],\n",
      "       [0.99884607, 0.96814535, 0.95470383, 0.45416473, 0.68247022],\n",
      "       [0.99884607, 0.96814535, 0.95818815, 0.98557469, 0.67882324],\n",
      "       [0.99884607, 0.96838131, 0.95893479, 0.98557469, 0.94407975]])}, 'std': {1.0: array([[0., 0., 0., 0., 0.],\n",
      "       [0., 0., 0., 0., 0.],\n",
      "       [0., 0., 0., 0., 0.],\n",
      "       [0., 0., 0., 0., 0.],\n",
      "       [0., 0., 0., 0., 0.]])}}\n"
     ]
    }
   ],
   "source": [
    "print(data)"
   ]
  },
  {
   "cell_type": "code",
   "execution_count": 20,
   "metadata": {},
   "outputs": [
    {
     "name": "stdout",
     "output_type": "stream",
     "text": [
      "(-5.0, 0.0)\n"
     ]
    }
   ],
   "source": [
    "import matplotlib.colors as colors\n",
    "cmap = plt.get_cmap('cool') \n",
    "cNorm  = colors.Normalize(vmin=-5, vmax=np.log(np.max(list(data['mean'].keys()))))\n",
    "scalarMap = cmx.ScalarMappable(norm=cNorm, cmap=cmap)\n",
    "print(scalarMap.get_clim())"
   ]
  },
  {
   "cell_type": "code",
   "execution_count": 21,
   "metadata": {},
   "outputs": [
    {
     "name": "stderr",
     "output_type": "stream",
     "text": [
      "No handles with labels found to put in legend.\n",
      "No handles with labels found to put in legend.\n",
      "No handles with labels found to put in legend.\n",
      "No handles with labels found to put in legend.\n",
      "No handles with labels found to put in legend.\n"
     ]
    },
    {
     "data": {
      "image/png": "[encoded data removed]",
      "text/plain": [
       "<Figure size 1008x180 with 6 Axes>"
      ]
     },
     "metadata": {},
     "output_type": "display_data"
    }
   ],
   "source": [
    "figure(figsize=(14, 2.5))\n",
    "axs = [subplot(1,n_tasks+1,1)]#, None, None]\n",
    "for i in range(1, n_tasks + 1):\n",
    "    axs.append(subplot(1, n_tasks+1, i+1, sharex=axs[0], sharey=axs[0]))\n",
    "    \n",
    "keys = list(data['mean'].keys())\n",
    "sorted_keys = np.sort(keys)\n",
    "\n",
    "for cval in sorted_keys:\n",
    "    mean_vals = data['mean'][cval]\n",
    "    std_vals = data['std'][cval]\n",
    "    for j in range(n_tasks):\n",
    "        colorVal = scalarMap.to_rgba(np.log(cval))\n",
    "        # axs[j].plot(evals[:, j], c=colorVal)\n",
    "        axs[j].errorbar(range(n_tasks), mean_vals[:, j], yerr=std_vals[:, j]/np.sqrt(n_stats), c=colorVal)\n",
    "    label = \"c=%g\"%cval\n",
    "    average = mean_vals.mean(1)  #Taking the average of cross validation accuracies accross all tasks after learning each task\n",
    "    axs[-1].plot(average, c=colorVal, label=label)\n",
    "    \n",
    "for i, ax in enumerate(axs):\n",
    "    ax.legend(loc='best')\n",
    "    ax.set_title((['task %d'%j for j in range(n_tasks)] + ['average'])[i])\n",
    "gcf().tight_layout()\n",
    "sns.despine()\n",
    "plt.savefig('MNIST-5Task-Progressive-Transfer-Learning.pdf')"
   ]
  },
  {
   "cell_type": "code",
   "execution_count": 22,
   "metadata": {},
   "outputs": [
    {
     "name": "stdout",
     "output_type": "stream",
     "text": [
      "[0.99884607 0.99884607 0.99884607 0.99884607 0.99884607] [0. 0. 0. 0. 0.]\n",
      "[0.50542709 0.96814535 0.96814535 0.96814535 0.96838131] [0. 0. 0. 0. 0.]\n",
      "[0.42906919 0.44798407 0.95470383 0.95818815 0.95893479] [0. 0. 0. 0. 0.]\n",
      "[0.48301536 0.48627268 0.45416473 0.98557469 0.98557469] [0. 0. 0. 0. 0.]\n",
      "[0.5220034  0.53294432 0.68247022 0.67882324 0.94407975] [0. 0. 0. 0. 0.]\n"
     ]
    }
   ],
   "source": [
    "for cval in sorted_keys:\n",
    "    mean_vals = data['mean'][cval]\n",
    "    std_vals = data['std'][cval]\n",
    "    for j in range(n_tasks):\n",
    "       print(mean_vals[:, j],std_vals[:, j]/np.sqrt(n_stats))"
   ]
  },
  {
   "cell_type": "code",
   "execution_count": 23,
   "metadata": {
    "collapsed": true
   },
   "outputs": [],
   "source": [
    "plt.rc('text', usetex=False)\n",
    "plt.rc('xtick', labelsize=8)\n",
    "plt.rc('ytick', labelsize=8)\n",
    "plt.rc('axes', labelsize=8)\n",
    "\n",
    "def simple_axis(ax):\n",
    "    ax.spines['top'].set_visible(False)\n",
    "    ax.spines['right'].set_visible(False)\n",
    "    ax.get_xaxis().tick_bottom()\n",
    "    ax.get_yaxis().tick_left()\n"
   ]
  },
  {
   "cell_type": "code",
   "execution_count": 30,
   "metadata": {},
   "outputs": [
    {
     "data": {
      "image/png": "[encoded data removed]",
      "text/plain": [
       "<Figure size 237.6x180 with 1 Axes>"
      ]
     },
     "metadata": {},
     "output_type": "display_data"
    }
   ],
   "source": [
    "#Fractional Correctness = Average of cross validation accuracies of learned tasks only after training each task \n",
    "fig = plt.figure(figsize=(3.3,2.5))\n",
    "ax = plt.subplot(111)\n",
    "\n",
    "for cval in sorted_keys:\n",
    "    mean_stuff = []\n",
    "    std_stuff = []\n",
    "    for i in range(len(data['mean'][cval])):\n",
    "        mean_stuff.append(data['mean'][cval][i][:i+1].mean())\n",
    "        std_stuff.append(np.sqrt((data['std'][cval][i][:i+1]**2).sum())/(n_stats*np.sqrt(n_stats)))\n",
    "    # plot(range(1,n_tasks+1), mean_stuff, 'o-', label=\"c=%g\"%cval)\n",
    "    errorbar(range(0,n_tasks), mean_stuff, yerr=std_stuff, fmt='o-', label=\"c=%g\"%cval)\n",
    "        \n",
    "axhline(data['mean'][cval][0][0], linestyle='--', color='k')\n",
    "xlabel('Number of tasks')\n",
    "ylabel('Fraction correct')\n",
    "legend(loc='best')\n",
    "xlim(0, n_tasks)\n",
    "ylim(0.5, 1.02)\n",
    "# grid('on')\n",
    "# sns.despine()\n",
    "simple_axis(ax)\n",
    "plt.savefig('MNIST-5Task-Progressive-Transfer-Learning-fraction-correct.pdf')"
   ]
  },
  {
   "cell_type": "code",
   "execution_count": 31,
   "metadata": {},
   "outputs": [
    {
     "name": "stdout",
     "output_type": "stream",
     "text": [
      "Rank of data for task-0 of shape-(10447, 500) is: 384\n",
      "----------------------------------------------------------------------\n",
      "Rank of data for task-1 of shape-(9893, 500) is: 410\n",
      "----------------------------------------------------------------------\n",
      "Rank of data for task-2 of shape-(9119, 500) is: 500\n",
      "----------------------------------------------------------------------\n",
      "Rank of data for task-3 of shape-(9871, 500) is: 500\n",
      "----------------------------------------------------------------------\n",
      "Rank of data for task-4 of shape-(9670, 500) is: 500\n",
      "----------------------------------------------------------------------\n"
     ]
    }
   ],
   "source": [
    "#After Reducng dataset\n",
    "for j in range(n_tasks):\n",
    "    print('Rank of data for task-{0} of shape-{1} is: {2}'.format(j,training_datasets[j][0].shape,matrix_rank(np.matrix(training_datasets[j][0], dtype='float'))))\n",
    "    print('----------------------------------------------------------------------')"
   ]
  },
  {
   "cell_type": "code",
   "execution_count": null,
   "metadata": {
    "collapsed": true
   },
   "outputs": [],
   "source": []
  }
 ],
 "metadata": {
  "kernelspec": {
   "display_name": "Python 2",
   "language": "python",
   "name": "python2"
  },
  "language_info": {
   "codemirror_mode": {
    "name": "ipython",
    "version": 2
   },
   "file_extension": ".py",
   "mimetype": "text/x-python",
   "name": "python",
   "nbconvert_exporter": "python",
   "pygments_lexer": "ipython2",
   "version": "2.7.14"
  }
 },
 "nbformat": 4,
 "nbformat_minor": 1
}
